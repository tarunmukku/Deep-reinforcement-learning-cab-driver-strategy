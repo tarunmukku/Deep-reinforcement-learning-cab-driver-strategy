{
 "cells": [
  {
   "cell_type": "markdown",
   "metadata": {},
   "source": [
    "### Cab-Driver Agent"
   ]
  },
  {
   "cell_type": "code",
   "execution_count": 29,
   "metadata": {},
   "outputs": [],
   "source": [
    "#pip install --upgrade tensorflow-gpu --user\n"
   ]
  },
  {
   "cell_type": "code",
   "execution_count": 30,
   "metadata": {},
   "outputs": [],
   "source": [
    "# Importing libraries\n",
    "import numpy as np\n",
    "import random\n",
    "import math\n",
    "from collections import deque\n",
    "import collections\n",
    "import pickle\n",
    "\n",
    "# for building DQN model\n",
    "from tensorflow import keras\n",
    "from keras import layers\n",
    "from keras import Sequential\n",
    "from keras.layers import Dense, Activation, Flatten\n",
    "from tensorflow.keras.optimizers import Adam\n",
    "\n",
    "\n",
    "# for plotting graphs\n",
    "import matplotlib.pyplot as plt\n",
    "\n",
    "# Import the environment\n",
    "from Env import CabDriver"
   ]
  },
  {
   "cell_type": "markdown",
   "metadata": {},
   "source": [
    "#### Defining Time Matrix"
   ]
  },
  {
   "cell_type": "code",
   "execution_count": 31,
   "metadata": {},
   "outputs": [],
   "source": [
    "# Loading the time matrix provided\n",
    "Time_matrix = np.load(\"TM.npy\")"
   ]
  },
  {
   "cell_type": "code",
   "execution_count": 32,
   "metadata": {},
   "outputs": [
    {
     "name": "stdout",
     "output_type": "stream",
     "text": [
      "<class 'numpy.ndarray'>\n",
      "11.0\n",
      "0.0\n"
     ]
    }
   ],
   "source": [
    "print(type(Time_matrix))\n",
    "print(Time_matrix.max())\n",
    "print(Time_matrix.min())"
   ]
  },
  {
   "cell_type": "markdown",
   "metadata": {},
   "source": [
    "#### Tracking the state-action pairs for checking convergence\n"
   ]
  },
  {
   "cell_type": "code",
   "execution_count": 33,
   "metadata": {},
   "outputs": [],
   "source": [
    "def Q_state(state):\n",
    "    return ('-'.join(str(i) for i in state)).replace('nan','x')"
   ]
  },
  {
   "cell_type": "code",
   "execution_count": 34,
   "metadata": {},
   "outputs": [],
   "source": [
    "Q_dict = collections.defaultdict(dict)\n",
    "States_track = collections.defaultdict(dict)\n"
   ]
  },
  {
   "cell_type": "code",
   "execution_count": 35,
   "metadata": {},
   "outputs": [],
   "source": [
    "def initialise_tracking_states(): \n",
    "    sample_values = [((3,0,2),(3,1)),((1,6,3),(2,3)),((2,2,2),(3,2))] \n",
    "    #select 4 Q-values \n",
    "    for q_value in samvalues: \n",
    "        state = Q_state(q_value[0]) \n",
    "        action = q_value[1] \n",
    "        states_track[state][action] = []"
   ]
  },
  {
   "cell_type": "code",
   "execution_count": 36,
   "metadata": {},
   "outputs": [],
   "source": [
    "def save_tracking_states():\n",
    "    for state in States_track.keys():\n",
    "        for action in States_track[state].keys():\n",
    "            if state in Q_dict and action in Q_dict[state]:\n",
    "                States_track[state][action].append(Q_dict[state][action])\n",
    "                "
   ]
  },
  {
   "cell_type": "code",
   "execution_count": 37,
   "metadata": {},
   "outputs": [],
   "source": [
    "#Defining a function to save the Q-dictionary as a pickle file\n",
    "def save_obj(obj, name ):\n",
    "    with open(name + '.pkl', 'wb') as f:\n",
    "        pickle.dump(obj, f, pickle.HIGHEST_PROTOCOL)"
   ]
  },
  {
   "cell_type": "markdown",
   "metadata": {},
   "source": [
    "### Agent Class\n",
    "\n",
    "If you are using this framework, you need to fill the following to complete the following code block:\n",
    "1. State and Action Size\n",
    "2. Hyperparameters\n",
    "3. Create a neural-network model in function 'build_model()'\n",
    "4. Define epsilon-greedy strategy in function 'get_action()'\n",
    "5. Complete the function 'append_sample()'. This function appends the recent experience tuple <state, action, reward, new-state> to the memory\n",
    "6. Complete the 'train_model()' function with following logic:\n",
    "   - If the memory size is greater than mini-batch size, you randomly sample experiences from memory as per the mini-batch size and do the following:\n",
    "      - Initialise your input and output batch for training the model\n",
    "      - Calculate the target Q value for each sample: reward + gamma*max(Q(s'a,))\n",
    "      - Get Q(s', a) values from the last trained model\n",
    "      - Update the input batch as your encoded state and output batch as your Q-values\n",
    "      - Then fit your DQN model using the updated input and output batch."
   ]
  },
  {
   "cell_type": "code",
   "execution_count": 38,
   "metadata": {},
   "outputs": [],
   "source": [
    "class DQNAgent:\n",
    "    def __init__(self, state_size, action_size):\n",
    "        # Define size of state and action\n",
    "        self.state_size = state_size\n",
    "        self.action_size = action_size\n",
    "\n",
    "        # Write here: Specify you hyper parameters for the DQN\n",
    "        self.discount_factor = 0.95\n",
    "        self.learning_rate = 0.01 \n",
    "        self.epsilon = 1\n",
    "        self.epsilon_max = 1\n",
    "        self.epsilon_decay = 0.99 \n",
    "        self.epsilon_min = 0.01\n",
    "        \n",
    "        self.batch_size = 32        \n",
    "        # create replay memory using deque\n",
    "        self.memory = deque(maxlen=2000)\n",
    "\n",
    "        # Initialize the value of the states tracked\n",
    "        self.states_tracked = []\n",
    "        \n",
    "        # We are going to track state [0,0,0] and action (0,2) at index 2 in the action space.\n",
    "        self.track_state = np.array(env.state_encod_arch1([0,0,0])).reshape(1, 36)\n",
    "        \n",
    "        # create main model and target model\n",
    "        self.model = self.build_model()\n",
    "\n",
    "    # approximate Q function using Neural Network\n",
    "    def build_model(self):\n",
    "        model = Sequential()\n",
    "        # Write your code here: Add layers to your neural nets       \n",
    "        model.add(Dense(32, input_dim=self.state_size, activation='relu', kernel_initializer='he_uniform'))\n",
    "        model.add(Dense(32, activation='relu', kernel_initializer='he_uniform'))\n",
    "        # the output layer: output is of size num_actions\n",
    "        model.add(Dense(self.action_size, activation='relu', kernel_initializer='he_uniform'))\n",
    "        model.compile(loss='mse',optimizer=Adam(lr=self.learning_rate))\n",
    "        model.summary\n",
    "        return model\n",
    "\n",
    "\n",
    "\n",
    "    def get_action(self, state, possible_actions_index, actions):\n",
    "        \"\"\"\n",
    "        get action in a state according to an epsilon-greedy approach\n",
    "        possible_actions_index, actions are the 'ride requests' that teh driver got.\n",
    "        \"\"\"        \n",
    "        # get action from model using epsilon-greedy policy\n",
    "        # Decay in ε after each episode       \n",
    "        if np.random.rand() <= self.epsilon:\n",
    "            # explore: choose a random action from the ride requests\n",
    "            if(len(possible_actions_index) == 0):\n",
    "                return 2\n",
    "            else:\n",
    "                \n",
    "                return random.choice(possible_actions_index)\n",
    "        else:\n",
    "            # choose the action with the highest q(s, a)\n",
    "            # the first index corresponds to the batch size, so\n",
    "            # reshape state to (1, state_size) so that the first index corresponds to the batch size\n",
    "            state = np.array(env.state_encod_arch1(state)).reshape(1, 36)\n",
    "\n",
    "            # Use the model to predict the Q_values.\n",
    "            q_value = self.model.predict(state)\n",
    "\n",
    "            # truncate the array to only those actions that are part of the ride  requests.\n",
    "            q_vals_possible = [q_value[0][i] for i in possible_actions_index]\n",
    "            \n",
    "            return possible_actions_index[np.argmax(q_vals_possible)]             \n",
    "\n",
    "\n",
    "    def append_sample(self, state, action, reward, next_state,done):\n",
    "        \n",
    "    # Write your code here:\n",
    "    # save sample <s,a,r,s'> to the replay memory\n",
    "        self.memory.append((state, action, reward, next_state, done))\n",
    "    \n",
    "    \n",
    "    # pick samples randomly from replay memory (with batch_size) and train the network\n",
    "    def train_model(self):\n",
    "        \n",
    "        if len(self.memory) > self.batch_size:\n",
    "            # Sample batch from the memory\n",
    "            mini_batch = random.sample(self.memory, self.batch_size)\n",
    "            update_output = np.zeros((self.batch_size, self.state_size))# write here\n",
    "            update_input = np.zeros((self.batch_size, self.state_size)) # write here\n",
    "            \n",
    "            actions, rewards, terminals = [],[],[]\n",
    "            \n",
    "            for i in range(self.batch_size):\n",
    "                state, action, reward, next_state, terminal = mini_batch[i]\n",
    "                update_input[i] = env.state_encod_arch1(state)\n",
    "                actions.append(action)\n",
    "                rewards.append(reward)\n",
    "                update_output[i] = env.state_encod_arch1(next_state)\n",
    "                terminals.append(terminal)\n",
    "  \n",
    "                \n",
    "                # Write your code from here\n",
    "                # 1. Predict the target from earlier model\n",
    "            target = self.model.predict(update_input)  \n",
    "            \n",
    "            \n",
    "                # 2. Get the target for the Q-network\n",
    "            target_qval = self.model.predict(update_output)    \n",
    "                \n",
    "                #3. Update your 'update_output' and 'update_input' batch\n",
    "            \n",
    "            for i in range(self.batch_size):\n",
    "                if terminals[i]:\n",
    "                    target[i][actions[i]] = rewards[i]\n",
    "                else: # non-terminal state\n",
    "                    target[i][actions[i]] = rewards[i] + self.discount_factor * np.max(target_qval[i])\n",
    "                \n",
    "                \n",
    "        # 4. Fit your model and track the loss values\n",
    "            self.model.fit(update_input, target, batch_size=self.batch_size, epochs=1, verbose=0)\n",
    "    \n",
    "    def save_tracking_states(self):\n",
    "        # Use the model to predict the q_value of the state we are tacking.\n",
    "        q_value = self.model.predict(self.track_state)\n",
    "        \n",
    "        # Grab the q_value of the action index that we are tracking.\n",
    "        self.states_tracked.append(q_value[0][2])\n",
    "        \n",
    "    def save_test_states(self):\n",
    "        # Use the model to predict the q_value of the state we are tacking.\n",
    "        q_value = self.model.predict(self.track_state)\n",
    "        \n",
    "        # Grab the q_value of the action index that we are tracking.\n",
    "        self.states_test.append(q_value[0][2])\n",
    "\n",
    "    def save(self, name):\n",
    "        with open(name, 'wb') as file:  \n",
    "            pickle.dump(self.model, file,pickle.HIGHEST_PROTOCOL)\n",
    "\n",
    "    def save(self, name):\n",
    "        self.model.save(name)"
   ]
  },
  {
   "cell_type": "code",
   "execution_count": 39,
   "metadata": {},
   "outputs": [],
   "source": [
    "Episodes = 1000"
   ]
  },
  {
   "cell_type": "markdown",
   "metadata": {},
   "source": [
    "### DQN block"
   ]
  },
  {
   "cell_type": "code",
   "execution_count": 40,
   "metadata": {},
   "outputs": [],
   "source": [
    "import time"
   ]
  },
  {
   "cell_type": "code",
   "execution_count": 41,
   "metadata": {},
   "outputs": [],
   "source": [
    "episode_time = 24*30 #30 days before which car has to be recharged\n",
    "n_episodes = 15000\n",
    "m = 5\n",
    "t = 24\n",
    "d = 7\n",
    "#  environment\n",
    "env = CabDriver()\n",
    "\n",
    "# get size of state and action from environment\n",
    "state_size = 36\n",
    "action_size = len(env.action_space)   "
   ]
  },
  {
   "cell_type": "code",
   "execution_count": 42,
   "metadata": {},
   "outputs": [
    {
     "name": "stderr",
     "output_type": "stream",
     "text": [
      "C:\\Users\\chakr\\anaconda3\\lib\\site-packages\\keras\\optimizer_v2\\optimizer_v2.py:355: UserWarning: The `lr` argument is deprecated, use `learning_rate` instead.\n",
      "  warnings.warn(\n"
     ]
    },
    {
     "name": "stdout",
     "output_type": "stream",
     "text": [
      "Saving Model 0\n",
      "INFO:tensorflow:Assets written to: model_weights.pkl\\assets\n",
      "episode 9, reward 98.0, memory_length 1111, epsilon 7405.587041670228 total_time 728.0\n",
      "episode 19, reward -11.0, memory_length 2000, epsilon 147596093.05304542 total_time 721.0\n",
      "episode 29, reward -142.0, memory_length 2000, epsilon 2941644809782.7095 total_time 726.0\n",
      "episode 39, reward -313.0, memory_length 2000, epsilon 5.862807075666679e+16 total_time 721.0\n",
      "episode 49, reward -424.0, memory_length 2000, epsilon 1.1684791682591439e+21 total_time 730.0\n",
      "episode 59, reward -57.0, memory_length 2000, epsilon 2.3288222672759923e+25 total_time 726.0\n",
      "episode 69, reward 71.0, memory_length 2000, epsilon 4.641429047161015e+29 total_time 723.0\n",
      "episode 79, reward 46.0, memory_length 2000, epsilon 9.250540027268047e+33 total_time 728.0\n",
      "episode 89, reward 228.0, memory_length 2000, epsilon 1.8436668949713015e+38 total_time 727.0\n",
      "episode 99, reward 167.0, memory_length 2000, epsilon 3.674496418148006e+42 total_time 731.0\n",
      "episode 109, reward -336.0, memory_length 2000, epsilon 7.323407478763949e+46 total_time 724.0\n",
      "episode 119, reward 271.0, memory_length 2000, epsilon 1.4595822392187245e+51 total_time 733.0\n",
      "episode 129, reward -98.0, memory_length 2000, epsilon 2.909001471269059e+55 total_time 723.0\n",
      "episode 139, reward -368.0, memory_length 2000, epsilon 5.797747692774878e+59 total_time 733.0\n",
      "episode 149, reward 89.0, memory_length 2000, epsilon 1.1555125922439894e+64 total_time 728.0\n",
      "episode 159, reward -143.0, memory_length 2000, epsilon 2.302979400946259e+68 total_time 725.0\n",
      "episode 169, reward 224.0, memory_length 2000, epsilon 4.589923257247288e+72 total_time 721.0\n",
      "episode 179, reward -218.0, memory_length 2000, epsilon 9.147887079998755e+76 total_time 729.0\n",
      "episode 189, reward 329.0, memory_length 2000, epsilon 1.8232077823147184e+81 total_time 733.0\n",
      "episode 199, reward 167.0, memory_length 2000, epsilon 3.633720648739688e+85 total_time 728.0\n",
      "episode 209, reward -72.0, memory_length 2000, epsilon 7.242139859842887e+89 total_time 728.0\n",
      "episode 219, reward 189.0, memory_length 2000, epsilon 1.4433853017214276e+94 total_time 732.0\n",
      "episode 229, reward -66.0, memory_length 2000, epsilon 2.8767203748405005e+98 total_time 722.0\n",
      "episode 239, reward 25.0, memory_length 2000, epsilon 5.733410271777457e+102 total_time 728.0\n",
      "episode 249, reward 258.0, memory_length 2000, epsilon 1.1426899059087997e+107 total_time 722.0\n",
      "episode 259, reward 16.0, memory_length 2000, epsilon 2.277423312078967e+111 total_time 722.0\n",
      "episode 269, reward 225.0, memory_length 2000, epsilon 4.538989025439413e+115 total_time 726.0\n",
      "episode 279, reward -103.0, memory_length 2000, epsilon 9.046373269206733e+119 total_time 730.0\n",
      "episode 289, reward -136.0, memory_length 2000, epsilon 1.802975703778007e+124 total_time 721.0\n",
      "episode 299, reward -62.0, memory_length 2000, epsilon 3.593397366742382e+128 total_time 727.0\n",
      "episode 309, reward -198.0, memory_length 2000, epsilon 7.161774065093939e+132 total_time 723.0\n",
      "episode 319, reward 163.0, memory_length 2000, epsilon 1.4273681011222938e+137 total_time 723.0\n",
      "episode 329, reward -180.0, memory_length 2000, epsilon 2.8447975007080017e+141 total_time 722.0\n",
      "episode 339, reward -63.0, memory_length 2000, epsilon 5.669786801086411e+145 total_time 727.0\n",
      "episode 349, reward 126.0, memory_length 2000, epsilon 1.130009512514383e+150 total_time 731.0\n",
      "episode 359, reward 77.0, memory_length 2000, epsilon 2.2521508183136448e+154 total_time 722.0\n",
      "episode 369, reward 478.0, memory_length 2000, epsilon 4.48862000917534e+158 total_time 721.0\n",
      "episode 379, reward 185.0, memory_length 2000, epsilon 8.945985953931514e+162 total_time 730.0\n",
      "episode 389, reward -178.0, memory_length 2000, epsilon 1.7829681399706614e+167 total_time 724.0\n",
      "episode 399, reward -144.0, memory_length 2000, epsilon 3.5535215509176903e+171 total_time 721.0\n",
      "episode 409, reward 194.0, memory_length 2000, epsilon 7.082300087002258e+175 total_time 721.0\n",
      "episode 419, reward -27.0, memory_length 2000, epsilon 1.411528642886704e+180 total_time 722.0\n",
      "episode 429, reward -12.0, memory_length 2000, epsilon 2.813228873690385e+184 total_time 733.0\n",
      "episode 439, reward -123.0, memory_length 2000, epsilon 5.606869358017665e+188 total_time 722.0\n",
      "episode 449, reward -103.0, memory_length 2000, epsilon 1.1174698330405197e+193 total_time 722.0\n",
      "episode 459, reward 180.0, memory_length 2000, epsilon 2.2271587726044406e+197 total_time 728.0\n",
      "episode 469, reward 199.0, memory_length 2000, epsilon 4.4388099362762307e+201 total_time 725.0\n",
      "episode 479, reward -39.0, memory_length 2000, epsilon 8.846712633488067e+205 total_time 723.0\n",
      "episode 489, reward -132.0, memory_length 2000, epsilon 1.7631825994599498e+210 total_time 724.0\n",
      "episode 499, reward 42.0, memory_length 2000, epsilon 3.5140882357477825e+214 total_time 722.0\n",
      "episode 509, reward 136.0, memory_length 2000, epsilon 7.0037080291078845e+218 total_time 726.0\n",
      "episode 519, reward 21.0, memory_length 2000, epsilon 1.3958649546132472e+223 total_time 723.0\n",
      "episode 529, reward -310.0, memory_length 2000, epsilon 2.782010562718806e+227 total_time 722.0\n",
      "episode 539, reward 8.0, memory_length 2000, epsilon 5.544650107805404e+231 total_time 722.0\n",
      "episode 549, reward 47.0, memory_length 2000, epsilon 1.1050693059893269e+236 total_time 723.0\n",
      "episode 559, reward -166.0, memory_length 2000, epsilon 2.2024440628284844e+240 total_time 729.0\n",
      "episode 569, reward 225.0, memory_length 2000, epsilon 4.389552604165164e+244 total_time 725.0\n",
      "episode 579, reward 385.0, memory_length 2000, epsilon 8.748540945911813e+248 total_time 721.0\n",
      "episode 589, reward -55.0, memory_length 2000, epsilon 1.743616618460441e+253 total_time 721.0\n",
      "episode 599, reward -52.0, memory_length 2000, epsilon 3.4750925108170244e+257 total_time 722.0\n",
      "episode 609, reward 167.0, memory_length 2000, epsilon 6.9259881047701515e+261 total_time 727.0\n",
      "episode 619, reward -94.0, memory_length 2000, epsilon 1.3803750857884251e+266 total_time 724.0\n",
      "episode 629, reward 356.0, memory_length 2000, epsilon 2.751138680346973e+270 total_time 722.0\n",
      "episode 639, reward 82.0, memory_length 2000, epsilon 5.483121302625795e+274 total_time 725.0\n",
      "episode 649, reward -304.0, memory_length 2000, epsilon 1.0928063871908143e+279 total_time 722.0\n",
      "episode 659, reward 137.0, memory_length 2000, epsilon 2.1780036113976552e+283 total_time 721.0\n",
      "episode 669, reward -61.0, memory_length 2000, epsilon 4.340841879095766e+287 total_time 723.0\n",
      "episode 679, reward -111.0, memory_length 2000, epsilon 8.651458666417014e+291 total_time 725.0\n",
      "episode 689, reward -22.0, memory_length 2000, epsilon 1.7242677605272496e+296 total_time 726.0\n",
      "episode 699, reward -117.0, memory_length 2000, epsilon 3.436529520200506e+300 total_time 722.0\n",
      "episode 709, reward -269.0, memory_length 2000, epsilon 6.849130635950833e+304 total_time 721.0\n"
     ]
    },
    {
     "name": "stderr",
     "output_type": "stream",
     "text": [
      "<ipython-input-42-f671fdd0e182>:66: RuntimeWarning: overflow encountered in exp\n",
      "  agent.epsilon = (1 - 0.00001) * np.exp(agent.epsilon_decay * episode)\n"
     ]
    },
    {
     "name": "stdout",
     "output_type": "stream",
     "text": [
      "episode 719, reward 171.0, memory_length 2000, epsilon inf total_time 725.0\n",
      "episode 729, reward -101.0, memory_length 2000, epsilon inf total_time 721.0\n",
      "episode 739, reward 63.0, memory_length 2000, epsilon inf total_time 726.0\n",
      "episode 749, reward -109.0, memory_length 2000, epsilon inf total_time 723.0\n",
      "episode 759, reward -28.0, memory_length 2000, epsilon inf total_time 722.0\n",
      "episode 769, reward -8.0, memory_length 2000, epsilon inf total_time 724.0\n",
      "episode 779, reward 266.0, memory_length 2000, epsilon inf total_time 725.0\n",
      "episode 789, reward 181.0, memory_length 2000, epsilon inf total_time 723.0\n",
      "episode 799, reward 70.0, memory_length 2000, epsilon inf total_time 723.0\n",
      "episode 809, reward -269.0, memory_length 2000, epsilon inf total_time 724.0\n",
      "episode 819, reward -148.0, memory_length 2000, epsilon inf total_time 721.0\n",
      "episode 829, reward -26.0, memory_length 2000, epsilon inf total_time 721.0\n",
      "episode 839, reward -111.0, memory_length 2000, epsilon inf total_time 732.0\n",
      "episode 849, reward -31.0, memory_length 2000, epsilon inf total_time 723.0\n",
      "episode 859, reward -287.0, memory_length 2000, epsilon inf total_time 721.0\n",
      "episode 869, reward 104.0, memory_length 2000, epsilon inf total_time 723.0\n",
      "episode 879, reward -113.0, memory_length 2000, epsilon inf total_time 725.0\n",
      "episode 889, reward 59.0, memory_length 2000, epsilon inf total_time 721.0\n",
      "episode 899, reward 281.0, memory_length 2000, epsilon inf total_time 730.0\n",
      "episode 909, reward 294.0, memory_length 2000, epsilon inf total_time 725.0\n",
      "episode 919, reward 308.0, memory_length 2000, epsilon inf total_time 724.0\n",
      "episode 929, reward 207.0, memory_length 2000, epsilon inf total_time 739.0\n",
      "episode 939, reward -228.0, memory_length 2000, epsilon inf total_time 725.0\n",
      "episode 949, reward 261.0, memory_length 2000, epsilon inf total_time 724.0\n",
      "episode 959, reward 377.0, memory_length 2000, epsilon inf total_time 727.0\n",
      "episode 969, reward -89.0, memory_length 2000, epsilon inf total_time 725.0\n",
      "episode 979, reward 81.0, memory_length 2000, epsilon inf total_time 725.0\n",
      "episode 989, reward 313.0, memory_length 2000, epsilon inf total_time 723.0\n",
      "episode 999, reward -178.0, memory_length 2000, epsilon inf total_time 731.0\n",
      "14154.944225549698\n"
     ]
    }
   ],
   "source": [
    "# agent needs to be initialised outside the loop since the DQN\n",
    "# network will be initialised along with the agent\n",
    "agent = DQNAgent(action_size=action_size, state_size=state_size)\n",
    "start_time = time.time()\n",
    "score_tracked = []\n",
    "\n",
    "# to store rewards in each episode\n",
    "rewards_per_episode, episodes = [], []\n",
    "rewards_init_state = []\n",
    "\n",
    "\n",
    "for episode in range(Episodes):\n",
    "\n",
    "    # Write code here\n",
    "    # Call the environment\n",
    "    # Call all the initialised variables of the environment\n",
    "    score = 0 \n",
    "    terminal_state = False\n",
    "    track_reward = False\n",
    "\n",
    "    # reset at the start of each episode\n",
    "    env = CabDriver()\n",
    "    action_space, state_space, state = env.reset()\n",
    "    # Save the initial state so that reward can be tracked if initial state is [0,0,0]\n",
    "    initial_state = env.state_init\n",
    "\n",
    "    #Call the DQN agent\n",
    "    \n",
    "    total_time = 0\n",
    "    while not terminal_state:\n",
    "        \n",
    "        # Write your code here\n",
    "        # 1. Pick epsilon-greedy action from possible actions for the current state\n",
    "        # 2. Evaluate your reward and next state\n",
    "        # 3. Append the experience to the memory\n",
    "        # 4. Train the model by calling function agent.train_model\n",
    "        # 5. Keep a track of rewards, Q-values, loss\n",
    "        \n",
    "        # get action for the current state and take a step in the environment\n",
    "        # 1. Get a list of the ride requests driver got.\n",
    "        possible_actions_indices, actions = env.requests(state)\n",
    "        # 2. Pick epsilon-greedy action from possible actions for the current state.\n",
    "        \n",
    "        action = agent.get_action(state, possible_actions_indices, actions)    \n",
    "        reward, next_state, step_time = env.step(state, action, Time_matrix)\n",
    "        total_time += step_time\n",
    "        if (total_time > episode_time):\n",
    "            # if ride does not complete in stipu;ated time skip\n",
    "            # it and move to next episode.\n",
    "            terminal_state = True\n",
    "        else:\n",
    "            # 5. Append the experience to the memory\n",
    "            agent.append_sample(state, action, reward, next_state, terminal_state)\n",
    "            # 6. Train the model by calling function agent.train_model\n",
    "            agent.train_model()\n",
    "            # 7. Keep a track of rewards, Q-values, loss\n",
    "            score += reward\n",
    "            state = next_state\n",
    "\n",
    "\n",
    "    # store total reward obtained in this episode\n",
    "    rewards_per_episode.append(score)\n",
    "    episodes.append(episode)\n",
    "\n",
    "   # epsilon decay\n",
    "    agent.epsilon = (1 - 0.00001) * np.exp(agent.epsilon_decay * episode)\n",
    "\n",
    "    # every 10 episodes:\n",
    "    if ((episode + 1) % 10 == 0):\n",
    "        print(\"episode {0}, reward {1}, memory_length {2}, epsilon {3} total_time {4}\".format(episode,\n",
    "                                                                         score,\n",
    "                                                                         len(agent.memory),\n",
    "                                                                         agent.epsilon, total_time))\n",
    "    # Save the Q_value of the state, action pair we are tracking\n",
    "    if ((episode + 1) % 5 == 0):\n",
    "        agent.save_tracking_states()\n",
    "\n",
    "    # Total rewards per episode\n",
    "    score_tracked.append(score)\n",
    "\n",
    "    if(episode % 1000 == 0):\n",
    "        print(\"Saving Model {}\".format(episode))\n",
    "        agent.save(name=\"model_weights.pkl\")\n",
    "    \n",
    "elapsed_time = time.time() - start_time\n",
    "print(elapsed_time)\n",
    "        "
   ]
  },
  {
   "cell_type": "code",
   "execution_count": 45,
   "metadata": {},
   "outputs": [
    {
     "name": "stdout",
     "output_type": "stream",
     "text": [
      "INFO:tensorflow:Assets written to: model_weights.pkl\\assets\n"
     ]
    }
   ],
   "source": [
    "agent.save(name=\"model_weights.pkl\")"
   ]
  },
  {
   "cell_type": "markdown",
   "metadata": {},
   "source": [
    "### Tracking Convergence"
   ]
  },
  {
   "cell_type": "markdown",
   "metadata": {},
   "source": [
    "#### Epsilon-decay sample function"
   ]
  },
  {
   "cell_type": "markdown",
   "metadata": {},
   "source": [
    "<div class=\"alert alert-block alert-info\">\n",
    "Try building a similar epsilon-decay function for your model.\n",
    "</div>"
   ]
  },
  {
   "cell_type": "code",
   "execution_count": 43,
   "metadata": {},
   "outputs": [],
   "source": [
    "time = np.arange(0,10000)\n",
    "epsilon = []\n",
    "for i in range(0,10000):\n",
    "    epsilon.append(0 + (1 - 0) * np.exp(-0.0009*i))"
   ]
  },
  {
   "cell_type": "code",
   "execution_count": 44,
   "metadata": {},
   "outputs": [
    {
     "data": {
      "image/png": "[encoded data removed]",
      "text/plain": [
       "<Figure size 432x288 with 1 Axes>"
      ]
     },
     "metadata": {
      "needs_background": "light"
     },
     "output_type": "display_data"
    }
   ],
   "source": [
    "plt.plot(time, epsilon)\n",
    "plt.show()"
   ]
  },
  {
   "cell_type": "code",
   "execution_count": null,
   "metadata": {},
   "outputs": [],
   "source": []
  }
 ],
 "metadata": {
  "kernelspec": {
   "display_name": "Python 3",
   "language": "python",
   "name": "python3"
  },
  "language_info": {
   "codemirror_mode": {
    "name": "ipython",
    "version": 3
   },
   "file_extension": ".py",
   "mimetype": "text/x-python",
   "name": "python",
   "nbconvert_exporter": "python",
   "pygments_lexer": "ipython3",
   "version": "3.8.3"
  }
 },
 "nbformat": 4,
 "nbformat_minor": 2
}
